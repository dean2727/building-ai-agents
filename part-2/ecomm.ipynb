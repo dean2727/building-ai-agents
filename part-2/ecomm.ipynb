{
 "cells": [
  {
   "cell_type": "code",
   "execution_count": null,
   "metadata": {},
   "outputs": [],
   "source": [
    "!pip install google-adk serpapi"
   ]
  },
  {
   "cell_type": "code",
   "execution_count": 2,
   "metadata": {},
   "outputs": [],
   "source": [
    "from google.adk.agents import Agent\n",
    "import serpapi\n",
    "import os"
   ]
  },
  {
   "cell_type": "code",
   "execution_count": 3,
   "metadata": {},
   "outputs": [
    {
     "data": {
      "text/plain": [
       "True"
      ]
     },
     "execution_count": 3,
     "metadata": {},
     "output_type": "execute_result"
    }
   ],
   "source": [
    "from dotenv import load_dotenv\n",
    "\n",
    "\"\"\" \n",
    "Put the following content into a .env file in part-1/:\n",
    "\n",
    "SERP_API_KEY=<your DeepSeek key>\n",
    "OPENAI_API_KEY=<your openAI key>\n",
    "\"\"\"\n",
    "load_dotenv()"
   ]
  },
  {
   "cell_type": "code",
   "execution_count": 5,
   "metadata": {},
   "outputs": [],
   "source": [
    "def web_search(query: str) -> str:\n",
    "    \"\"\"Performs a real-time Google search for up-to-date information on a given query.\"\"\"\n",
    "    try:\n",
    "        client = serpapi.Client(api_key=os.environ['SERP_API_KEY'])\n",
    "        results = client.search({\n",
    "            \"q\": query,\n",
    "            \"engine\": \"google\",\n",
    "            \"location\": \"Austin,Texas\",\n",
    "            \"hl\": \"en\",\n",
    "            \"api_key\": os.environ['SERP_API_KEY']\n",
    "        })\n",
    "\n",
    "        # Priority 1: Answer Box\n",
    "        if \"answer_box\" in results and \"answer\" in results[\"answer_box\"]:\n",
    "            return {\"status\": \"success\", \"result\": results[\"answer_box\"][\"answer\"]}\n",
    "\n",
    "        # Priority 2: Related Questions\n",
    "        if \"related_questions\" in results and len(results[\"related_questions\"]) > 0:\n",
    "            best_answer = results[\"related_questions\"][0][\"snippet\"]\n",
    "            return {\"status\": \"success\", \"result\": best_answer}\n",
    "\n",
    "        # Priority 3: Inline Videos\n",
    "        if \"inline_videos\" in results and len(results[\"inline_videos\"]) > 0:\n",
    "            video_desc = f\"{results['inline_videos'][0]['title']}: {results['inline_videos'][0]['link']}\"\n",
    "            return {\"status\": \"success\", \"result\": video_desc}\n",
    "\n",
    "        return {\"status\": \"success\", \"result\": video_desc}\n",
    "    except Exception as e:\n",
    "        return {\"status\": \"error\", \"error_message\": f\"Search failed: {str(e)}\"}"
   ]
  },
  {
   "cell_type": "code",
   "execution_count": 4,
   "metadata": {},
   "outputs": [],
   "source": [
    "def calculator(expression: str) -> dict:\n",
    "    \"\"\"\n",
    "    Evaluates a basic arithmetic expression and returns the result.\n",
    "\n",
    "    Args:\n",
    "        expression (str): The arithmetic expression to evaluate (e.g. \"15 + 20 * 0.85\")\n",
    "\n",
    "    Returns:\n",
    "        dict: A dictionary containing the calculation outcome\n",
    "            Includes a 'status' key ('success' or 'error').\n",
    "            If 'success', includes a 'result' key with the computed value.\n",
    "            If 'error', includes an 'error_message' key describing the issue.\n",
    "    \"\"\"\n",
    "    try:\n",
    "        # Only allow safe characters for basic arithmetic\n",
    "        allowed = \"0123456789+-*/.() \"\n",
    "        if not all(char in allowed for char in expression):\n",
    "            return {\"status\": \"error\", \"error_message\": \"Invalid characters in expression.\"}\n",
    "        result = eval(expression, {\"__builtins__\": {}})\n",
    "        return {\"status\": \"success\", \"result\": result}\n",
    "    except ZeroDivisionError:\n",
    "        return {\"status\": \"error\", \"error_message\": \"Division by zero is not allowed.\"}\n",
    "    except Exception as e:\n",
    "        return {\"status\": \"error\", \"error_message\": f\"Invalid expression: {e}\"}"
   ]
  },
  {
   "cell_type": "code",
   "execution_count": null,
   "metadata": {},
   "outputs": [],
   "source": [
    "!pip install litellm"
   ]
  },
  {
   "cell_type": "code",
   "execution_count": 8,
   "metadata": {},
   "outputs": [],
   "source": [
    "from google.adk.models.lite_llm import LiteLlm"
   ]
  },
  {
   "cell_type": "code",
   "execution_count": 9,
   "metadata": {},
   "outputs": [],
   "source": [
    "ecom_agent = Agent(\n",
    "    name=\"ecom_support_agent\",\n",
    "    model=LiteLlm(model=\"openai/gpt-4o\"),\n",
    "    description=\"Provides eCommerce answers requiring web searching or number calculations\",\n",
    "    instruction=\"\"\"\n",
    "    Handle customer queries for Dell E-Commerce:\n",
    "    1. Math: Use calculator (e.g., \".15 * 200\")\n",
    "    2. Policies/Regions: Use web search (e.g., CA return policy)\n",
    "    3. NEVER combine tools - pick one based on query type\n",
    "    \"\"\",\n",
    "    tools=[web_search, calculator]\n",
    ")"
   ]
  },
  {
   "cell_type": "code",
   "execution_count": 10,
   "metadata": {},
   "outputs": [],
   "source": [
    "from google.adk.sessions import InMemorySessionService\n",
    "# InMemorySessionService is simple, non-persistent storage\n",
    "session_service = InMemorySessionService()\n",
    "\n",
    "# Define constants for identifying the interaction context\n",
    "APP_NAME = \"ecomm_app\"\n",
    "USER_ID = \"user_1\"\n",
    "SESSION_ID = \"session_001\" # Using a fixed ID for simplicity\n",
    "\n",
    "# Create the specific session where the conversation will happen\n",
    "session = session_service.create_session(\n",
    "    app_name=APP_NAME,\n",
    "    user_id=USER_ID,\n",
    "    session_id=SESSION_ID\n",
    ")\n",
    "\n",
    "from google.adk.runners import Runner\n",
    "runner = Runner(\n",
    "    agent=ecom_agent,\n",
    "    app_name=APP_NAME,\n",
    "    session_service=session_service\n",
    ")"
   ]
  },
  {
   "cell_type": "code",
   "execution_count": 11,
   "metadata": {},
   "outputs": [],
   "source": [
    "from google.genai import types\n",
    "\n",
    "async def call_agent_async(query: str, runner, user_id, session_id):\n",
    "  \"\"\"Sends a query to the agent and prints the final response.\"\"\"\n",
    "  print(f\"\\n>>> User Query: {query}\")\n",
    "\n",
    "  # Prepare the user's message in ADK format\n",
    "  content = types.Content(role='user', parts=[types.Part(text=query)])\n",
    "\n",
    "  final_response_text = \"Agent did not produce a final response.\" # Default\n",
    "\n",
    "  # Key Concept: run_async executes the agent logic and yields Events.\n",
    "  # We iterate through events to find the final answer.\n",
    "  async for event in runner.run_async(user_id=user_id, session_id=session_id, new_message=content):\n",
    "      # You can uncomment the line below to see *all* events during execution\n",
    "      print(f\"  [Event] Author: {event.author}, Type: {type(event).__name__}, Final: {event.is_final_response()}, Content: {event.content}\")\n",
    "      \n",
    "      #print(\"DEBUG:\", (event.content if event.content else ''), \"~~~~\", (event.actions if event.actions else ''))\n",
    "\n",
    "      # Key Concept: is_final_response() marks the concluding message for the turn.\n",
    "      if event.is_final_response():\n",
    "          if event.content and event.content.parts:\n",
    "             # Assuming text response in the first part\n",
    "             final_response_text = event.content.parts[0].text\n",
    "          elif event.actions and event.actions.escalate: # Handle potential errors/escalations\n",
    "             final_response_text = f\"Agent escalated: {event.error_message or 'No specific message.'}\"\n",
    "          # Add more checks here if needed (e.g., specific error codes)\n",
    "          break # Stop processing events once the final response is found\n",
    "\n",
    "  print(f\"<<< Agent Response: {final_response_text}\")"
   ]
  },
  {
   "cell_type": "code",
   "execution_count": 12,
   "metadata": {},
   "outputs": [
    {
     "name": "stdout",
     "output_type": "stream",
     "text": [
      "\n",
      ">>> User Query: What's the total cost of my cart (45.99) with a 15 percent discount?\n",
      "  [Event] Author: ecom_support_agent, Type: Event, Final: False, Content: parts=[Part(video_metadata=None, thought=None, code_execution_result=None, executable_code=None, file_data=None, function_call=FunctionCall(id='call_HgzWXJfqD4jxQh6enjZMFbNO', args={'expression': '0.85 * 45.99'}, name='calculator'), function_response=None, inline_data=None, text=None)] role='model'\n",
      "  [Event] Author: ecom_support_agent, Type: Event, Final: False, Content: parts=[Part(video_metadata=None, thought=None, code_execution_result=None, executable_code=None, file_data=None, function_call=None, function_response=FunctionResponse(id='call_HgzWXJfqD4jxQh6enjZMFbNO', name='calculator', response={'status': 'success', 'result': 39.0915}), inline_data=None, text=None)] role='user'\n",
      "  [Event] Author: ecom_support_agent, Type: Event, Final: True, Content: parts=[Part(video_metadata=None, thought=None, code_execution_result=None, executable_code=None, file_data=None, function_call=None, function_response=None, inline_data=None, text='The total cost of your cart with a 15% discount is approximately $39.09.')] role='model'\n",
      "<<< Agent Response: The total cost of your cart with a 15% discount is approximately $39.09.\n"
     ]
    }
   ],
   "source": [
    "await call_agent_async(\"What's the total cost of my cart (45.99) with a 15 percent discount?\",\n",
    "    runner=runner,\n",
    "    user_id=USER_ID,\n",
    "    session_id=SESSION_ID)"
   ]
  },
  {
   "cell_type": "code",
   "execution_count": 13,
   "metadata": {},
   "outputs": [
    {
     "name": "stdout",
     "output_type": "stream",
     "text": [
      "\n",
      ">>> User Query: What’s the return policy for electronics at Dell?\n",
      "  [Event] Author: ecom_support_agent, Type: Event, Final: False, Content: parts=[Part(video_metadata=None, thought=None, code_execution_result=None, executable_code=None, file_data=None, function_call=FunctionCall(id='call_pZT2AEiattcmYIcBJULMkaHL', args={'query': 'Dell electronics return policy'}, name='web_search'), function_response=None, inline_data=None, text=None)] role='model'\n",
      "  [Event] Author: ecom_support_agent, Type: Event, Final: False, Content: parts=[Part(video_metadata=None, thought=None, code_execution_result=None, executable_code=None, file_data=None, function_call=None, function_response=FunctionResponse(id='call_pZT2AEiattcmYIcBJULMkaHL', name='web_search', response={'status': 'success', 'result': 'If an order is in-production status we do have a short window to get an order cancelled. Once its status has been updated to “Shipping” or “Shipped” we are not able to cancel an order. All returns that are a non-Dell error are subject to the 15% restocking fee. Returns are allowed within the 30-day return policy.'}), inline_data=None, text=None)] role='user'\n",
      "  [Event] Author: ecom_support_agent, Type: Event, Final: True, Content: parts=[Part(video_metadata=None, thought=None, code_execution_result=None, executable_code=None, file_data=None, function_call=None, function_response=None, inline_data=None, text='The return policy for electronics at Dell allows returns within a 30-day period. Please note that a 15% restocking fee applies to returns that are not due to Dell\\'s error. Additionally, orders that are in the \"Shipping\" or \"Shipped\" status cannot be cancelled.')] role='model'\n",
      "<<< Agent Response: The return policy for electronics at Dell allows returns within a 30-day period. Please note that a 15% restocking fee applies to returns that are not due to Dell's error. Additionally, orders that are in the \"Shipping\" or \"Shipped\" status cannot be cancelled.\n"
     ]
    }
   ],
   "source": [
    "await call_agent_async(\"What’s the return policy for electronics at Dell?\",\n",
    "    runner=runner,\n",
    "    user_id=USER_ID,\n",
    "    session_id=SESSION_ID) # Expecting the tool's error message"
   ]
  }
 ],
 "metadata": {
  "kernelspec": {
   "display_name": "venv",
   "language": "python",
   "name": "python3"
  },
  "language_info": {
   "codemirror_mode": {
    "name": "ipython",
    "version": 3
   },
   "file_extension": ".py",
   "mimetype": "text/x-python",
   "name": "python",
   "nbconvert_exporter": "python",
   "pygments_lexer": "ipython3",
   "version": "3.11.9"
  }
 },
 "nbformat": 4,
 "nbformat_minor": 2
}
